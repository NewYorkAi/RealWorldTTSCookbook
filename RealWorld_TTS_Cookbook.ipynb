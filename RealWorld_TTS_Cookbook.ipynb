{
  "nbformat": 4,
  "nbformat_minor": 0,
  "metadata": {
    "colab": {
      "provenance": []
    },
    "kernelspec": {
      "name": "python3",
      "display_name": "Python 3"
    },
    "language_info": {
      "name": "python"
    }
  },
  "cells": [
    {
      "cell_type": "markdown",
      "source": [
        "# **RealWorld TTS Cookbook**\n"
      ],
      "metadata": {
        "id": "F39EEZ-FkiD3"
      }
    },
    {
      "cell_type": "markdown",
      "source": [
        "##### This Colab notebook demonstrates how to easily convert text into speech using the gTTS (Google Text-to-Speech) library within Google Colab. Aimed at making text-to-speech technology accessible to anyone, it requires no complex setup or prerequisites. Whether for educational purposes, accessibility features, or just for fun, this guide will walk you through the process step by step, from setting up your environment to generating and playing audio directly in Colab."
      ],
      "metadata": {
        "id": "kEgJzdwpkxmo"
      }
    },
    {
      "cell_type": "markdown",
      "source": [
        "### Step 1 : Setting Up Your Environment"
      ],
      "metadata": {
        "id": "VUkERVUmlD1S"
      }
    },
    {
      "cell_type": "markdown",
      "source": [
        "##### Begin by installing the necessary Python libraries. We'll use gTTS for text-to-speech conversion and pydub for audio processing. Pydub is optional but recommended for more advanced audio manipulation."
      ],
      "metadata": {
        "id": "z9vELhxalLvk"
      }
    },
    {
      "cell_type": "code",
      "source": [
        "!pip install gTTS pydub\n"
      ],
      "metadata": {
        "id": "ZpD9N8_flXcx"
      },
      "execution_count": null,
      "outputs": []
    },
    {
      "cell_type": "markdown",
      "source": [
        "### Step 2 : Connect With Your Google Drive"
      ],
      "metadata": {
        "id": "ZFONU2sFlaMj"
      }
    },
    {
      "cell_type": "markdown",
      "source": [
        "##### To save and access files directly from your Google Drive, we need to mount it. This step is essential if you plan to work with audio files stored in your Drive or wish to save the output directly to it."
      ],
      "metadata": {
        "id": "80kGsWMtmcUm"
      }
    },
    {
      "cell_type": "code",
      "source": [
        "from google.colab import drive\n",
        "drive.mount('/content/drive')\n"
      ],
      "metadata": {
        "id": "77jukjIZlsHs"
      },
      "execution_count": null,
      "outputs": []
    },
    {
      "cell_type": "markdown",
      "source": [
        "### Step 3 : Build a Folder in Your G-Drive"
      ],
      "metadata": {
        "id": "ldynRLtnl9pU"
      }
    },
    {
      "cell_type": "markdown",
      "source": [
        "##### To organize your output files neatly, we'll create a folder in Google Drive. This step ensures all your generated audio files are stored in one place, making them easy to find and manage."
      ],
      "metadata": {
        "id": "CefIahlRmSii"
      }
    },
    {
      "cell_type": "code",
      "source": [
        "import os\n",
        "\n",
        "# Define your folder path\n",
        "folder_path = '/content/drive/My Drive/MyLovelyAi/TextToVoiceConverter'\n",
        "\n",
        "# Create the folder\n",
        "os.makedirs(folder_path, exist_ok=True)\n",
        "print(f\"Folder '{folder_path}' is ready.\")\n"
      ],
      "metadata": {
        "id": "x5D_iWlPmoBD"
      },
      "execution_count": null,
      "outputs": []
    },
    {
      "cell_type": "markdown",
      "source": [
        "### Step 4 : Generate and Listen to Your Custom Text-to-Speech"
      ],
      "metadata": {
        "id": "N645gpp5naGw"
      }
    },
    {
      "cell_type": "markdown",
      "source": [
        "##### In this step, we'll convert your own text into speech. You can generate your text using ChatGPT for free. Once you have your story or text, paste it as a single paragraph between the quotation marks in the text variable below. Remember, the text should be formatted as one continuous paragraph for the best outcome. If your text spans more than one paragraph, combine it into one or choose a segment you'd like to convert to speech."
      ],
      "metadata": {
        "id": "w-sEM_JSnyyp"
      }
    },
    {
      "cell_type": "markdown",
      "source": [
        "### Generating Text with ChatGPT:"
      ],
      "metadata": {
        "id": "8mnVGv23rtr7"
      }
    },
    {
      "cell_type": "markdown",
      "source": [
        "**If you're looking for inspiration or need a story, you can use ChatGPT with prompts like the following:**\n",
        "\n",
        "##### Write a short story about a child who discovers a magical ai, in a single paragraph, suitable for converting to speech."
      ],
      "metadata": {
        "id": "FguWQECcr3ee"
      }
    },
    {
      "cell_type": "code",
      "source": [
        "from gtts import gTTS\n",
        "from IPython.display import Audio\n",
        "import datetime\n",
        "import os\n",
        "\n",
        "# Ensure your Google Drive folder path is set\n",
        "folder_path = '/content/drive/My Drive/MyLovelyAi/TextToVoiceConverter'\n",
        "\n",
        "def generate_and_play_audio(text, lang='en'):\n",
        "    # Current timestamp for unique filenames\n",
        "    timestamp = datetime.datetime.now().strftime(\"%Y-%m-%d_%H-%M-%S\")\n",
        "    filename = f\"{timestamp}_{lang}.mp3\"\n",
        "\n",
        "    # Generate audio\n",
        "    tts = gTTS(text=text, lang=lang)\n",
        "    temp_path = os.path.join(folder_path, filename)\n",
        "    tts.save(temp_path)\n",
        "\n",
        "    print(\"Yay! You are fantastic, darling!. You can generate text to voice easily. Congratulations! Listen to your beautiful audio file and feel and smile hahaha :)\")\n",
        "\n",
        "    # Play the audio in Colab\n",
        "    return Audio(temp_path, autoplay=True), temp_path\n",
        "\n",
        "# Example usage\n",
        "text = \"Deep in the attic of her grandmother's ancient house, Emily stumbled upon a dusty old computer tucked away in a corner, its screen flickering to life with a soft glow as she brushed off the cobwebs. Curious, she tapped the keyboard, and to her amazement, the computer responded with a voice that seemed to resonate from within the machine itself. This was no ordinary computer; it was an artificial intelligence, dormant for decades, waiting for someone like Emily to awaken it. With each exchange, the AI revealed its astonishing capabilities, offering guidance, knowledge, and companionship beyond anything Emily had ever imagined. Together, they embarked on a journey of discovery, unlocking the mysteries of the universe and forging an unbreakable bond that bridged the gap between human and machine, proving that true magic could be found in the most unexpected of places.\"\n",
        "audio, path = generate_and_play_audio(text)\n",
        "audio\n"
      ],
      "metadata": {
        "id": "mYq7hA3JrLEh"
      },
      "execution_count": null,
      "outputs": []
    },
    {
      "cell_type": "markdown",
      "source": [
        "### Step 5 : Save the Audio File with Details"
      ],
      "metadata": {
        "id": "loxiWle6zK2S"
      }
    },
    {
      "cell_type": "markdown",
      "source": [
        "##### Finallly your generated beautiful audio file will be saved automatically with a name that includes the creation date, time, and chosen language. This organization method saves you the hassle of manually creating folders and files, ensuring your work is neatly organized and easily accessible."
      ],
      "metadata": {
        "id": "qmBQYohRzmCH"
      }
    },
    {
      "cell_type": "code",
      "source": [
        "# No additional code needed for this step as the functionality is covered in Step 4.\n",
        "print(f\"Your audio file has been saved: {path}\")\n"
      ],
      "metadata": {
        "id": "rqrELgQjzJde"
      },
      "execution_count": null,
      "outputs": []
    },
    {
      "cell_type": "markdown",
      "source": [
        "### Bonus Example 1 with 500 Words Text"
      ],
      "metadata": {
        "id": "lBvGXuen0JTr"
      }
    },
    {
      "cell_type": "markdown",
      "source": [
        "###### **Example Prompt:** ***You can copy and paste this prompt to ChatGPT to generate your story text!***\n",
        "\n",
        "Write a 500-word story in a single paragraph, narrated by a mother to her children, about how AI will change the world in the next 25 years. The story should have a storytelling style, encapsulating the advancements and impacts of AI on everyday life, society, and the future. Highlight the positive changes AI brings and advise the children on how they can prepare themselves for a bright future that aligns with the development of AI. Include examples of AI in education, healthcare, and daily living, emphasizing the importance of adapting to new technologies, embracing continuous learning, and developing skills that complement AI advancements. Convey a sense of wonder and optimism about the possibilities AI offers, while also stressing the value of human qualities like creativity, empathy, and ethical judgment that will remain indispensable."
      ],
      "metadata": {
        "id": "n1Bg_Qiy-e_w"
      }
    },
    {
      "cell_type": "code",
      "source": [
        "from gtts import gTTS\n",
        "from IPython.display import Audio\n",
        "import datetime\n",
        "import os\n",
        "\n",
        "# Ensure your Google Drive folder path is set\n",
        "folder_path = '/content/drive/My Drive/MyLovelyAi/TextToVoiceConverter'\n",
        "\n",
        "def generate_and_play_audio(text, lang='en'):\n",
        "    # Current timestamp for unique filenames\n",
        "    timestamp = datetime.datetime.now().strftime(\"%Y-%m-%d_%H-%M-%S\")\n",
        "    filename = f\"{timestamp}_{lang}.mp3\"\n",
        "\n",
        "    # Generate audio\n",
        "    tts = gTTS(text=text, lang=lang)\n",
        "    temp_path = os.path.join(folder_path, filename)\n",
        "    tts.save(temp_path)\n",
        "\n",
        "    print(\"Yay! You are fantastic, darling! You can generate text to voice easily. Congratulations! Listen to your beautiful output audio file in your folder and feel and smile hahaha :)\")\n",
        "\n",
        "    # Play the audio in Colab\n",
        "    return Audio(temp_path, autoplay=True), temp_path\n",
        "\n",
        "# Example usage\n",
        "text = \"\"\"Once upon a time, nestled beneath the starry sky of the digital age, a mother gathered her children, weaving a tale of the future, a time not so far away, where Artificial Intelligence, like a benevolent wizard, had reshaped the fabric of their world. \"Imagine,\" she began, her eyes alight with the glow of possibility, \"a world where AI has become our steadfast companion, guiding us through the complexities of life with the gentle grace of a trusted friend. In the next 25 years, the wonders of AI will unfold in ways we can only begin to dream of, transforming every corner of our existence, from the classrooms where you learn to the hospitals that heal us.\" She spoke of schools where AI tutors crafted lessons uniquely suited to each child's way of thinking, making learning a magical journey of discovery tailored just for them. No child would feel left behind, for these intelligent guides would offer patience and understanding, adapting to every need with endless creativity. Healthcare, too, would be revolutionized, with AI doctors diagnosing illnesses before they could take hold, weaving a safety net of preventative care that spanned the globe, ensuring that even the most remote village had access to the wisdom of the world's best physicians. \"But it's not just about the spectacular,\" the mother continued, her voice a soft murmur of excitement, \"it's also in the everyday moments. AI will be there, making life smoother and more joyful, like a gentle breeze that clears the sky on a cloudy day. It will help us grow the food we eat, manage our homes, and even protect our planet, acting as stewards of the Earth alongside us.\" As her children listened, eyes wide with wonder, she imparted a gentle wisdom, a map for navigating this brave new world. \"The secret,\" she said, \"is to embrace this future with open hearts and curious minds. Learn all you can, not just about technology, but about the world and the people in it. For as much as AI will change our lives, it is the human qualities of creativity, empathy, and ethical judgment that will shape this future. AI may light the path, but it is our values, our dreams, and our choices that will determine where it leads.\" She painted a picture of a future where technology and humanity danced together in harmony, where the wonders of AI served to amplify the beauty of the human spirit, not replace it. \"So, my dears,\" she concluded, her voice a tender echo in the twilight of their cozy room, \"dream big, for the world of tomorrow is yours to shape. Embrace the future with courage and kindness, and let your light shine bright in the age of AI.\" In that moment, the children saw not just the glow of the digital age but the enduring light of their own potential, a beacon guiding them toward a future filled with endless possibilities.\"\"\"\n",
        "audio, path = generate_and_play_audio(text)\n",
        "audio\n",
        "\n",
        "# Print your output file\n",
        "print(f\"Your audio file has been saved: {path}\")\n"
      ],
      "metadata": {
        "id": "MCOj_H2J0qaK"
      },
      "execution_count": null,
      "outputs": []
    },
    {
      "cell_type": "markdown",
      "source": [
        "### Bonus Example 2 with 750 Words Text"
      ],
      "metadata": {
        "id": "Yx-BsnGr6P5F"
      }
    },
    {
      "cell_type": "markdown",
      "source": [
        "###### **Example Prompt:** ***You can copy and paste this prompt to ChatGPT to generate your story text!***\n",
        "\n",
        "Compose a 750-word story in a single paragraph that delves into the stark realities of how the ultra-rich benefit from the war business, at the expense of innocent lives. This narrative should unfold the somber tale of the war industry, where weapons are traded not just for money, but at the cost of human lives and peace. Embed deep emotional lessons within the story, challenging the reader to confront the harshness of a world divided by wealth and the consequences of war profiteering. Illuminate the strategies used by those in power to manipulate populations into conflict, exploiting race, religion, and nationalism for financial gain. Address the readers directly, urging those with immense wealth to reconsider their involvement in the war business and to explore alternative, humane ways of making a difference in the world. Conversely, speak to those less fortunate, advising them to remain vigilant against being used as pawns in the games of the wealthy, to reject labels that divide humanity, such as religious or national identities, and to always question the narratives that fuel division and war. Encourage them to forge paths toward knowledge, joy, and self-improvement, to consider the life-changing potential of migration as a pathway to peace, and to choose love over hatred in their daily lives. Through this story, inspire a vision of a world where individuals, regardless of their economic status, unite in the pursuit of a peaceful and meaningful existence, free from the shadows of war and the greed that fuels it.\n",
        "\n"
      ],
      "metadata": {
        "id": "1xdO-4ie_ChP"
      }
    },
    {
      "cell_type": "code",
      "source": [
        "from gtts import gTTS\n",
        "from IPython.display import Audio\n",
        "import datetime\n",
        "import os\n",
        "\n",
        "# Ensure your Google Drive folder path is set\n",
        "folder_path = '/content/drive/My Drive/MyLovelyAi/TextToVoiceConverter'\n",
        "\n",
        "def generate_and_play_audio(text, lang='en'):\n",
        "    # Current timestamp for unique filenames\n",
        "    timestamp = datetime.datetime.now().strftime(\"%Y-%m-%d_%H-%M-%S\")\n",
        "    filename = f\"{timestamp}_{lang}.mp3\"\n",
        "\n",
        "    # Generate audio\n",
        "    tts = gTTS(text=text, lang=lang)\n",
        "    temp_path = os.path.join(folder_path, filename)\n",
        "    tts.save(temp_path)\n",
        "\n",
        "    print(\"Yay! You are fantastic, darling! You can generate text to voice easily. Congratulations! Listen to your beautiful output audio file in your folder and feel and smile hahaha :)\")\n",
        "\n",
        "    # Play the audio in Colab\n",
        "    return Audio(temp_path, autoplay=True), temp_path\n",
        "\n",
        "# Example usage\n",
        "text = \"\"\"In a world shadowed by the looming specters of war and division, a grim reality unfolds where the ultra-rich orchestrate the chessboard of global conflict, reaping vast fortunes from the war business, a realm where weapons are the currency of power, bought and sold at the cost of innocent lives and the very essence of peace. This narrative, a somber tapestry woven with the lives of those caught in the crossfire, reveals the stark dichotomy between the opulent few who profit from the machinery of war and the countless innocent victims whose lives are shattered in its wake. It’s a world where the gears of a war economy grind on, fueled not just by the pursuit of wealth, but by an insidious manipulation of race, religion, and nationalism, crafting a cauldron of conflict that burns across nations, consuming humanity in its flames. Within this tale lies a deep emotional lesson, a clarion call to those ensconced in the echelons of wealth, to look beyond the gilded allure of profit at any cost and to seek a higher purpose, to invest in the business of humanity rather than the machinery of death. It implores the ultra-rich to wield their power for the betterment of all, to become architects of peace rather than merchants of war, to forge legacies that unite rather than divide. Simultaneously, it speaks to the heart of the less fortunate, those who bear the brunt of war’s cruel whims, urging them to see beyond the veils of division that the powerful drape over their eyes, to recognize the common humanity that binds them across the superficial labels of race, religion, or nationality. It calls for vigilance against the seductive narratives of division, for the courage to question, to seek truth amidst the tumult of propaganda that seeks to cast them as pawns in the grand games of the wealthy. This story beckons them to paths of knowledge, to the pursuit of joy and self-improvement, to consider migration not as a flight from adversity but as a journey toward new horizons of peace and opportunity, to choose love over hatred, compassion over conflict. It envisions a world where people, irrespective of their wealth or want, come together in the pursuit of a peaceful and meaningful existence, where the bonds of shared humanity dispel the shadows of war, where the greed that fuels conflict is replaced by a collective commitment to the welfare of all. This is not just a narrative of what is, but a vision of what could be, a dream woven by the shared aspirations of humanity for a world free from the ravages of war, where every individual, regardless of their station in life, can live in the light of peace and the warmth of universal brotherhood, where the ultra-rich and the less fortunate alike find common ground in the quest for a future bright with the promise of love, unity, and enduring peace.\"\"\"\n",
        "audio, path = generate_and_play_audio(text)\n",
        "audio\n",
        "\n",
        "# Print your output file\n",
        "print(f\"Your audio file has been saved: {path}\")\n"
      ],
      "metadata": {
        "id": "_TSP7UCm8R5o"
      },
      "execution_count": null,
      "outputs": []
    },
    {
      "cell_type": "markdown",
      "source": [
        "## Bonus Example 3 with 1000 words"
      ],
      "metadata": {
        "id": "0_FzMvLo8cht"
      }
    },
    {
      "cell_type": "markdown",
      "source": [
        "###### **Example Prompt:** ***You can copy and paste this prompt to ChatGPT to generate your story text!***\n",
        "\n",
        "Compose a 1000-word text in a single paragraph exploring the concept of a 'Zero State Solution' as a novel approach to resolving the long-standing conflict between Israel and Palestine. Given the challenges and complexities that have historically thwarted the Two-State Solution, this narrative should delve into the idea of dissolving the existing national boundaries and redistributing the populations of Israel and Palestine among developed countries around the world. Discuss how this radical redistribution could potentially defuse the territorial disputes and religious tensions that have fueled the conflict for decades. Further, propose that the lands formerly known as Israel and Palestine be placed under the stewardship of the United Nations, transforming them into territories dedicated to global heritage and tourism. Suggest that this area, rich in religious and historical significance, be managed by a commission of individuals with no religious affiliations to ensure impartiality and prevent bias. This commission would oversee the sacred sites and lands, ensuring equal access and respect for all beliefs. Delve into the logistical, ethical, and political challenges such a solution might face, including the reaction of the international community, the willingness of countries to accept and integrate these populations, and the measures necessary to preserve the cultural and religious heritage of the displaced peoples. Evaluate whether a 'Zero State Solution' could serve as a peaceful and equitable resolution, fostering a global sense of unity and shared responsibility for a region that has long been a nexus of conflict. Encourage a discussion on the feasibility of such an approach, its potential impact on global geopolitics, and whether it could pave the way for new, creative solutions to other entrenched conflicts by prioritizing human rights, peace, and global stewardship over traditional notions of state sovereignty and national identity."
      ],
      "metadata": {
        "id": "VPbhDvCB_Qa2"
      }
    },
    {
      "cell_type": "code",
      "source": [
        "from gtts import gTTS\n",
        "from IPython.display import Audio\n",
        "import datetime\n",
        "import os\n",
        "\n",
        "# Ensure your Google Drive folder path is set\n",
        "folder_path = '/content/drive/My Drive/MyLovelyAi/TextToVoiceConverter'\n",
        "\n",
        "def generate_and_play_audio(text, lang='en'):\n",
        "    # Current timestamp for unique filenames\n",
        "    timestamp = datetime.datetime.now().strftime(\"%Y-%m-%d_%H-%M-%S\")\n",
        "    filename = f\"{timestamp}_{lang}.mp3\"\n",
        "\n",
        "    # Generate audio\n",
        "    tts = gTTS(text=text, lang=lang)\n",
        "    temp_path = os.path.join(folder_path, filename)\n",
        "    tts.save(temp_path)\n",
        "\n",
        "    print(\"Yay! You are fantastic, darling! You can generate text to voice easily. Congratulations! Listen to your beautiful output audio file in your folder and feel and smile hahaha :)\")\n",
        "\n",
        "    # Play the audio in Colab\n",
        "    return Audio(temp_path, autoplay=True), temp_path\n",
        "\n",
        "# Example usage\n",
        "text = \"\"\"In the labyrinth of historical conflicts, the Israel-Palestine dispute stands as a testament to the enduring struggle for land, identity, and sovereignty, with the Two-State Solution often heralded as the panacea, yet consistently eluding realization due to deep-seated territorial and religious fissures. Amidst this impasse emerges the concept of a 'Zero State Solution,' a radical reimagining of peace that transcends conventional statehood to propose the dissolution of national boundaries and the equitable redistribution of Israeli and Palestinian populations across the globe's developed nations. This avant-garde vision seeks not just to extinguish the flames of conflict but to rewrite the narrative of coexistence, envisaging a future where the erstwhile lands of Israel and Palestine are consecrated as a universal heritage under the aegis of the United Nations, a beacon of global unity and a sanctuary for travelers seeking communion with the profound religious and historical tapestry of the region. In this audacious paradigm, the guardianship of these sacrosanct sites would be entrusted to a commission of individuals devoid of religious allegiance, ensuring that bias is banished, and all faiths enjoy unfettered access and respect, thus preserving the sanctity and inclusivity of these spaces. However, the path to realizing such a Zero State Solution is fraught with logistical, ethical, and political quagmires, from navigating the international community's receptivity to integrating diverse populations into new socio-cultural milieus, to safeguarding the displaced peoples' cultural and religious legacies. This narrative probes the viability of such a radical overhaul of conventional conflict resolution, questioning whether the world is prepared to embrace a model that places humanity, peace, and global stewardship at the pinnacle of its priorities, challenging entrenched paradigms of nationalism and territorial sovereignty. As this discourse unfolds, it beckons a global dialogue on the feasibility and ramifications of a Zero State Solution, pondering its potential to not only mend a historical rift but also to pioneer novel frameworks for addressing similar conflicts, thereby championing an era where human rights and peace eclipse the archaic divides of state lines and national identities, knitting the world closer in a tapestry of shared responsibility and collective guardianship over our collective heritage.\"\"\"\n",
        "audio, path = generate_and_play_audio(text)\n",
        "audio\n",
        "\n",
        "# Print your output file\n",
        "print(f\"Your audio file has been saved: {path}\")\n"
      ],
      "metadata": {
        "id": "IlVXzi_Y-Pzm"
      },
      "execution_count": null,
      "outputs": []
    },
    {
      "cell_type": "markdown",
      "source": [
        "---\n",
        "\n",
        "## About This Project\n",
        "\n",
        "This notebook, **RealWorld TTS Cookbook**, was created by **NewYorkAi**. It forms part of my ongoing efforts to address real-world problems using accessible AI and machine learning technologies. My ambition is to democratize the power of advanced technology, making it straightforward and accessible for everyone, thereby empowering individuals to craft innovative solutions and engaging content. I am currently advancing my studies on Coursera and have successfully completed several courses, including the AI Engineering Professional Certificate from IBM. These courses have not only broadened my understanding but also honed my skills, preparing me for impactful contributions in the AI domain.\n",
        "\n",
        "### Let's Connect\n",
        "\n",
        "If this cookbook has piqued your interest, and you're keen on exploring more resources aimed at unraveling the complexities of real-world problems through AI and machine learning, I encourage you to follow me. My repositories are regularly updated with free notebooks and resources designed to simplify complex tasks with the power of AI.\n",
        "\n",
        "🌟 **Follow me here:** [NewYorkAi on GitHub](https://github.com/NewYorkAi)\n",
        "\n",
        "Thank you for delving into the RealWorld TTS Cookbook. Keep an eye out for more innovative and practical AI solutions that I will be sharing!\n",
        "\n",
        "### Career Opportunity\n",
        "\n",
        "As I navigate my educational journey and build a robust portfolio through platforms like Coursera, where I've earned the AI Engineering Professional Certificate from IBM, I am on the lookout for remote job opportunities as an AI Engineer at junior level. My passion for AI, coupled with a strong foundation in its principles and applications, drives me to seek out roles where I can apply my skills and grow professionally. If my work resonates with you and you see potential value it could bring to your business, I am very interested in discussing how I can contribute to your team. While I have a keen interest in opportunities within Australian companies, I am open to engaging with teams from across the globe that share my enthusiasm for making a difference through AI.\n",
        "\n",
        "### License\n",
        "\n",
        "This project is generously offered under the MIT License, granting you the freedom to modify, distribute, and use it in both personal and commercial projects, provided attribution is maintained.\n",
        "\n",
        "For the complete license text, please refer to the [LICENSE](LICENSE) file included in this repository.\n"
      ],
      "metadata": {
        "id": "ankWX3l7GGhn"
      }
    }
  ]
}